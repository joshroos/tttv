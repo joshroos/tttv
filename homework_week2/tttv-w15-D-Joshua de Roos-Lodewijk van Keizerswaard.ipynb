{
 "cells": [
  {
   "cell_type": "markdown",
   "metadata": {},
   "source": [
    "# Taaltheorie en Taalverwerking · 2019 · Week 15\n",
    "\n",
    "In this set of exercises you are asked to implement several grammars using the Python NLTK library. Provide your answers in this notebook. In order to avoid countless hours spent on searching the wrong classes, we shall provide some of the imports by which you could complete the assignments. The `CFG` uses the `RecursiveDescentParser`, and the `FeatureGrammar` uses the `FeatureEarleyChartParser`:"
   ]
  },
  {
   "cell_type": "code",
   "execution_count": null,
   "metadata": {
    "collapsed": true
   },
   "outputs": [],
   "source": [
    "# FILL THIS IN FOR YOUR GROUP, also name your file as: tttv-w15-<group>-<name1>-<name2>.ipynb\n",
    "\n",
    "# Group        : D\n",
    "# Name - UvaID : Joshua de Roos\n",
    "# Name - UvaID : Lodewijk van Keizerswaard\n",
    "# Date         : 16-04-19"
   ]
  },
  {
   "cell_type": "code",
   "execution_count": 16,
   "metadata": {},
   "outputs": [],
   "source": [
    "import nltk\n",
    "from nltk import CFG\n",
    "from nltk.grammar import FeatureGrammar\n",
    "from nltk.parse import RecursiveDescentParser, FeatureEarleyChartParser\n",
    "\n",
    "# Function that works for multiple types of parsers (You are free to use something else if you want.)\n",
    "def check_sentence(parser, sentence):\n",
    "    print(\"--------------------------------------------------\")\n",
    "    print(\"Checking if provided sentence matches the grammar:\")\n",
    "    print(sentence)\n",
    "    if isinstance(sentence, str):\n",
    "        sentence = sentence.split()\n",
    "    tree_found = False\n",
    "    results = parser.parse(sentence)\n",
    "    for tree in results:\n",
    "        tree_found = True\n",
    "        print(tree)\n",
    "    if not tree_found:\n",
    "        print(sentence, \"Does not match the provided grammar.\")\n",
    "    print(\"--------------------------------------------------\")\n",
    "    return tree_found"
   ]
  },
  {
   "cell_type": "markdown",
   "metadata": {},
   "source": [
    "## Problem 1 (6 pts total)\n",
    "\n",
    "Consider the following simple grammar:\n",
    "<table>\n",
    "<tr>\n",
    "    <td>Phrase structure rules</td>\n",
    "    <td>Lexicon</td>\n",
    "</tr>\n",
    "<tr>\n",
    "    <td>S $\\rightarrow$ NP VP</td>\n",
    "    <td>Det $\\rightarrow$ <i>the</i></td>\n",
    "</tr>\n",
    "<tr>\n",
    "    <td>NP $\\rightarrow$ Det N</td>\n",
    "    <td>N $\\rightarrow$ <i>journalist</i> | <i>detective</i></td>\n",
    "</tr>\n",
    "<tr>\n",
    "    <td>VP $\\rightarrow$ V NP</td>\n",
    "    <td>V $\\rightarrow$ <i>interviews</i></td>\n",
    "</tr>\n",
    "</table>\n",
    "\n",
    "Implement this grammar as a NLTK `CFG` object (let's call this initial version **cfg\\_1**)."
   ]
  },
  {
   "cell_type": "code",
   "execution_count": 17,
   "metadata": {},
   "outputs": [
    {
     "name": "stdout",
     "output_type": "stream",
     "text": [
      "--------------------------------------------------\n",
      "Checking if provided sentence matches the grammar:\n",
      "the journalist interviews the detective\n",
      "(S\n",
      "  (NP (Det the) (N journalist))\n",
      "  (VP (V interviews) (NP (Det the) (N detective))))\n",
      "--------------------------------------------------\n",
      "--------------------------------------------------\n",
      "Checking if provided sentence matches the grammar:\n",
      "the the journalist interviews the detective\n",
      "['the', 'the', 'journalist', 'interviews', 'the', 'detective'] Does not match the provided grammar.\n",
      "--------------------------------------------------\n"
     ]
    },
    {
     "data": {
      "text/plain": [
       "False"
      ]
     },
     "execution_count": 17,
     "metadata": {},
     "output_type": "execute_result"
    }
   ],
   "source": [
    "# Finish the declaration of cfg_1\n",
    "cfg_1 = CFG.fromstring(\"\"\"\n",
    "  S -> NP VP\n",
    "  NP -> Det N\n",
    "  VP -> V NP\n",
    "  Det -> 'the'\n",
    "  N -> 'journalist'\n",
    "  N -> 'detective'\n",
    "  V -> 'interviews'\n",
    "\"\"\")\n",
    "\n",
    "# Use the correct parser for cfg_1 (incase you missed it... scroll up)\n",
    "cfg_1_parser = RecursiveDescentParser(cfg_1)\n",
    "# The following inputs should produce the corresponding results\n",
    "check_sentence(cfg_1_parser, 'the journalist interviews the detective') # True\n",
    "check_sentence(cfg_1_parser, 'the the journalist interviews the detective') # False"
   ]
  },
  {
   "cell_type": "markdown",
   "metadata": {},
   "source": [
    "### Question 1.1 (3 pts):\n",
    "Now write a second grammar, **cfg\\_2**, that extends your **cfg\\_1** with the plural forms *journalists*, *detectives* and *interview* and that is able to handle number agreement between the subject NP and the verb. That is, your **cfg\\_2** should accept and reject sentences such as the following: \n",
    "\n",
    "| Accepted                                         | Rejected                                        |\n",
    "|----------------------------------------------|-----------------------------------------------|\n",
    "| the detectives interview the journalist | the detective interview the journalist   |\n",
    "| the journalist interviews the detective | the journalists interviews the detective |\n",
    "\n",
    "\n",
    "__Hint:__ You should deal with number agreement by adding an extra argument for number to those rules that require it, not by unnecessarily duplicating rules. In particular, your **cfg\\_2** must have only one sentential rule with the start symbol $S$. The normal `CFG` class of NLTK will not be able to use features, hence look at the `FeatureGrammar` class of NLTK.\n",
    "\n",
    "Possibly useful link: http://www.nltk.org/book/ch09.html.\n"
   ]
  },
  {
   "cell_type": "code",
   "execution_count": 19,
   "metadata": {},
   "outputs": [
    {
     "name": "stdout",
     "output_type": "stream",
     "text": [
      "--------------------------------------------------\n",
      "Checking if provided sentence matches the grammar:\n",
      "the detectives interview the journalist\n",
      "(S[]\n",
      "  (NP[NUM='pl'] (Det[] the) (N[NUM='pl'] detectives))\n",
      "  (VP[NUM='pl']\n",
      "    (V[NUM='pl'] interview)\n",
      "    (NP[NUM='sg'] (Det[] the) (N[NUM='sg'] journalist))))\n",
      "--------------------------------------------------\n",
      "--------------------------------------------------\n",
      "Checking if provided sentence matches the grammar:\n",
      "the journalist interviews the detectives\n",
      "(S[]\n",
      "  (NP[NUM='sg'] (Det[] the) (N[NUM='sg'] journalist))\n",
      "  (VP[NUM='sg']\n",
      "    (V[NUM='sg'] interviews)\n",
      "    (NP[NUM='pl'] (Det[] the) (N[NUM='pl'] detectives))))\n",
      "--------------------------------------------------\n",
      "--------------------------------------------------\n",
      "Checking if provided sentence matches the grammar:\n",
      "the detective interview the journalist\n",
      "['the', 'detective', 'interview', 'the', 'journalist'] Does not match the provided grammar.\n",
      "--------------------------------------------------\n",
      "--------------------------------------------------\n",
      "Checking if provided sentence matches the grammar:\n",
      "the journalists interviews the detective\n",
      "['the', 'journalists', 'interviews', 'the', 'detective'] Does not match the provided grammar.\n",
      "--------------------------------------------------\n"
     ]
    },
    {
     "data": {
      "text/plain": [
       "False"
      ]
     },
     "execution_count": 19,
     "metadata": {},
     "output_type": "execute_result"
    }
   ],
   "source": [
    "# Finish the declaration of cfg_2\n",
    "cfg_2 = FeatureGrammar.fromstring(\"\"\"\n",
    "  S -> NP[NUM=?n] VP[NUM=?n]\n",
    "  NP[NUM=?n] -> Det N[NUM=?n]\n",
    "  VP[NUM=?n] -> V[NUM=?n] NP\n",
    "  Det -> 'the'\n",
    "  N[NUM=sg] -> 'journalist'\n",
    "  N[NUM=sg] -> 'detective'\n",
    "  N[NUM=pl] -> 'journalists'\n",
    "  N[NUM=pl] -> 'detectives'\n",
    "  V[NUM=sg] -> 'interviews'\n",
    "  V[NUM=pl] -> 'interview'\n",
    "\"\"\")\n",
    "\n",
    "# Use the correct parser for cfg_2 (incase you missed it... scroll up)\n",
    "cfg_2_parser = FeatureEarleyChartParser(cfg_2)\n",
    "# The following inputs should produce the corresponding results\n",
    "check_sentence(cfg_2_parser, 'the detectives interview the journalist')  # True\n",
    "check_sentence(cfg_2_parser, 'the journalist interviews the detectives') # True\n",
    "check_sentence(cfg_2_parser, 'the detective interview the journalist')   # False\n",
    "check_sentence(cfg_2_parser, 'the journalists interviews the detective') # False"
   ]
  },
  {
   "cell_type": "markdown",
   "metadata": {},
   "source": [
    "### Question 1.2 (3 pts)\n",
    "\n",
    "Now write a third version of your grammar, **cfg\\_3**, that extends **cfg\\_2** with the pronouns *she*, *he*, *they*, *her*, *him*, and *them*. These pronouns differ in their number (*she*, *he*, *her*, *him* are singular, while *they* and *them* are plural) and in their case (*she*, *he*, *they* and \"nominative\", while *her*, *him*, and *them* are \"accusative\".  \n",
    "\n",
    "Nominative pronouns can only appear in subject position (as in *she interviews the investigators*), while accusative pronouns can only appear in object position (as in *the journalist interviews them*). Your **cfg\\_3** must be able to handle both number agreement between the subject NP and the verb and case restrictions for the subject and the object NPs. That is, it should accept and reject sentences such as the following:\n",
    "\n",
    "| Accepted                                         | Rejected                                        |\n",
    "|----------------------------------------------|-----------------------------------------------|\n",
    "| he interviews the journalists | her interviews they   |\n",
    "| the detectives interview him | them interviews the detective |\n",
    "\n",
    "\n",
    "__Hint:__ You need a new rule for NPs that consist of a pronoun (*NP $\\rightarrow$ Pro*), to which you will need to add extra arguments. Again, do not unnecessarily duplicate rules, exploit the power of argument unification. Your grammar must again have  only one sentential rule with the start symbol $S$. In case you get stuck, ask yourself: Can symbols have multiple features in NLTK?"
   ]
  },
  {
   "cell_type": "code",
   "execution_count": 43,
   "metadata": {},
   "outputs": [
    {
     "name": "stdout",
     "output_type": "stream",
     "text": [
      "--------------------------------------------------\n",
      "Checking if provided sentence matches the grammar:\n",
      "she interviews the journalist\n",
      "(S[]\n",
      "  (NP[CASE='nom', NUM='sg'] (Pro[CASE='nom', NUM='sg'] she))\n",
      "  (VP[NUM='sg']\n",
      "    (V[NUM='sg'] interviews)\n",
      "    (NP[NUM='sg'] (Det[] the) (N[NUM='sg'] journalist))))\n",
      "--------------------------------------------------\n",
      "--------------------------------------------------\n",
      "Checking if provided sentence matches the grammar:\n",
      "the detectives interview him\n",
      "(S[]\n",
      "  (NP[NUM='pl'] (Det[] the) (N[NUM='pl'] detectives))\n",
      "  (VP[NUM='pl']\n",
      "    (V[NUM='pl'] interview)\n",
      "    (NP[CASE='acc', NUM='sg'] (Pro[CASE='acc', NUM='sg'] him))))\n",
      "--------------------------------------------------\n",
      "--------------------------------------------------\n",
      "Checking if provided sentence matches the grammar:\n",
      "her interviews they\n",
      "['her', 'interviews', 'they'] Does not match the provided grammar.\n",
      "--------------------------------------------------\n",
      "--------------------------------------------------\n",
      "Checking if provided sentence matches the grammar:\n",
      "them interviews the detective\n",
      "['them', 'interviews', 'the', 'detective'] Does not match the provided grammar.\n",
      "--------------------------------------------------\n"
     ]
    },
    {
     "data": {
      "text/plain": [
       "False"
      ]
     },
     "execution_count": 43,
     "metadata": {},
     "output_type": "execute_result"
    }
   ],
   "source": [
    "# Finish the declaration of cfg_3\n",
    "cfg_3 = FeatureGrammar.fromstring(\"\"\"\n",
    "    S -> NP[NUM=?n, CASE=nom] VP[NUM=?n]\n",
    "    NP[NUM=?n] -> Det N[NUM=?n]\n",
    "    NP[NUM=?n, CASE=?c] -> Pro[NUM=?n, CASE=?c]\n",
    "    VP[NUM=?n] -> V[NUM=?n] NP[CASE=acc]\n",
    "    Det -> 'the'\n",
    "    N[NUM=sg] -> 'journalist' | 'detective'\n",
    "    N[NUM=pl] -> 'journalists' | 'detectives'\n",
    "    Pro[NUM=sg, CASE=nom] -> 'she' | 'he'\n",
    "    Pro[NUM=pl, CASE=nom] -> 'they'\n",
    "    Pro[NUM=sg, CASE=acc] -> 'her' | 'him'\n",
    "    Pro[NUM=pl, CASE=acc] -> 'them'\n",
    "    V[NUM=sg] -> 'interviews'\n",
    "    V[NUM=pl] -> 'interview'\n",
    "\"\"\")\n",
    "# Use the correct parser for cfg_3 (incase you missed it... scroll up)\n",
    "cfg_3_parser = FeatureEarleyChartParser(cfg_3)\n",
    "# The following inputs should produce the corresponding results\n",
    "check_sentence(cfg_3_parser, 'she interviews the journalist') # True\n",
    "check_sentence(cfg_3_parser, 'the detectives interview him') # True\n",
    "check_sentence(cfg_3_parser, 'her interviews they') # False\n",
    "check_sentence(cfg_3_parser, 'them interviews the detective')"
   ]
  },
  {
   "cell_type": "markdown",
   "metadata": {},
   "source": [
    "## Problem 2 (4 pts total)\n",
    "Last week, in Homework 1, Python Exercise 3, you were asked to implement a specification of the following FSA: \n",
    "![Second FSM should be here, else add the image in the root of your jupyter notebook](fsm2.png)\n",
    "\n",
    "In class we have seen that for every FSA, there is not only an equivalent regular expression, but also an equivalent right-linear grammar (a grammar of type 3 in the Chomsky hierarchy). \n",
    "\n",
    "### Question 2.1\n",
    "\n",
    "Write a grammar that corresponds to a right-linear grammar and is equivalent to this FSA, call it **fsa\\_1**. \n",
    "\n",
    "If your grammar is equivalent to the FSA above, you should be able to verify that strings such as \"x y x x\"  or \"x y x y x\" are part of the language while a string such as \"x x y x x y\" is not:\n"
   ]
  },
  {
   "cell_type": "code",
   "execution_count": 46,
   "metadata": {},
   "outputs": [
    {
     "name": "stdout",
     "output_type": "stream",
     "text": [
      "--------------------------------------------------\n",
      "Checking if provided sentence matches the grammar:\n",
      "x\n",
      "(q_0 x)\n",
      "--------------------------------------------------\n",
      "--------------------------------------------------\n",
      "Checking if provided sentence matches the grammar:\n",
      "x y\n",
      "['x', 'y'] Does not match the provided grammar.\n",
      "--------------------------------------------------\n",
      "--------------------------------------------------\n",
      "Checking if provided sentence matches the grammar:\n",
      "x y x x\n",
      "(q_0 x (q_1 y (q_2 x (q_1 x))))\n",
      "--------------------------------------------------\n",
      "--------------------------------------------------\n",
      "Checking if provided sentence matches the grammar:\n",
      "x y x y x\n",
      "(q_0 x (q_1 y (q_2 x (q_1 y (q_2 x)))))\n",
      "--------------------------------------------------\n",
      "--------------------------------------------------\n",
      "Checking if provided sentence matches the grammar:\n",
      "x x y x x y\n",
      "['x', 'x', 'y', 'x', 'x', 'y'] Does not match the provided grammar.\n",
      "--------------------------------------------------\n"
     ]
    },
    {
     "data": {
      "text/plain": [
       "False"
      ]
     },
     "execution_count": 46,
     "metadata": {},
     "output_type": "execute_result"
    }
   ],
   "source": [
    "# Define fsa_1\n",
    "fsa_1 = CFG.fromstring(\"\"\"\n",
    "  q_0 -> 'x' q_1\n",
    "  q_0 -> 'x'\n",
    "  q_1 -> 'x'\n",
    "  q_1 -> 'x' q_1\n",
    "  q_1 -> 'y' q_2\n",
    "  q_2 -> 'x'\n",
    "  q_2 -> 'x' q_1\n",
    " \n",
    "\"\"\")\n",
    "# Use the correct parser for fsa_1\n",
    "fsa_1_parser = RecursiveDescentParser(fsa_1)\n",
    "# The following inputs should produce the corresponding results\n",
    "check_sentence(fsa_1_parser, 'x') # True\n",
    "check_sentence(fsa_1_parser, 'x y') # False\n",
    "check_sentence(fsa_1_parser, 'x y x x') # True\n",
    "check_sentence(fsa_1_parser, 'x y x y x') # True\n",
    "check_sentence(fsa_1_parser, 'x x y x x y') # False"
   ]
  },
  {
   "cell_type": "markdown",
   "metadata": {},
   "source": [
    "### Question 2.2\n",
    "\n",
    "It is possible to specify a grammar that is equivalent to this FSA and contains only two non-terminal symbols. If the grammar you have provided includes more than two non-terminals, now give a version that contains only two, call it **fsa\\_2**.\n"
   ]
  },
  {
   "cell_type": "code",
   "execution_count": 49,
   "metadata": {},
   "outputs": [
    {
     "name": "stdout",
     "output_type": "stream",
     "text": [
      "--------------------------------------------------\n",
      "Checking if provided sentence matches the grammar:\n",
      "x\n",
      "(q_0 x)\n",
      "--------------------------------------------------\n",
      "--------------------------------------------------\n",
      "Checking if provided sentence matches the grammar:\n",
      "x y\n",
      "['x', 'y'] Does not match the provided grammar.\n",
      "--------------------------------------------------\n",
      "--------------------------------------------------\n",
      "Checking if provided sentence matches the grammar:\n",
      "x y x x\n",
      "(q_0 x (q_1 y (q_2 x (q_1 x))))\n",
      "--------------------------------------------------\n",
      "--------------------------------------------------\n",
      "Checking if provided sentence matches the grammar:\n",
      "x y x y x\n",
      "(q_0 x (q_1 y (q_2 x (q_1 y (q_2 x)))))\n",
      "--------------------------------------------------\n",
      "--------------------------------------------------\n",
      "Checking if provided sentence matches the grammar:\n",
      "x x y x x y\n",
      "['x', 'x', 'y', 'x', 'x', 'y'] Does not match the provided grammar.\n",
      "--------------------------------------------------\n"
     ]
    },
    {
     "data": {
      "text/plain": [
       "False"
      ]
     },
     "execution_count": 49,
     "metadata": {},
     "output_type": "execute_result"
    }
   ],
   "source": [
    "# Define fsa_2\n",
    "fsa_2 = CFG.fromstring(\"\"\"\n",
    "  q_0 -> 'x' q_1\n",
    "  q_0 -> 'x'\n",
    "  q_1 -> 'x'\n",
    "  q_1 -> 'x' q_1\n",
    "  q_1 -> 'y' q_0\n",
    "\"\"\")\n",
    "# Use the correct parser for fsa_2\n",
    "fsa_2_parser = RecursiveDescentParser(fsa_1)\n",
    "# The following inputs should produce the corresponding results\n",
    "check_sentence(fsa_2_parser, 'x') # True\n",
    "check_sentence(fsa_2_parser, 'x y') # False\n",
    "check_sentence(fsa_2_parser, 'x y x x') # True\n",
    "check_sentence(fsa_2_parser, 'x y x y x') # True\n",
    "check_sentence(fsa_2_parser, 'x x y x x y') # False"
   ]
  },
  {
   "cell_type": "markdown",
   "metadata": {},
   "source": [
    "## Problem 3 (4 pts total)\n",
    "\n",
    "Let $L = \\{a^nb^{2n}\\}$ be the formal language which contains all strings of the following form: an unbroken block of $a$'s of length $n$ followed by an unbroken block of $b$'s of length $2n$, and nothing else. For example, $abb$ , $aabbbb$, and $aaabbbbbb$ belong to $L$, and does the empty string. \n",
    "\n",
    "### Question 3.1 \n",
    "Write a grammar that generates this language, call it **formal\\_1**"
   ]
  },
  {
   "cell_type": "code",
   "execution_count": 61,
   "metadata": {},
   "outputs": [
    {
     "name": "stdout",
     "output_type": "stream",
     "text": [
      "--------------------------------------------------\n",
      "Checking if provided sentence matches the grammar:\n",
      "\n",
      "(q_0 )\n",
      "--------------------------------------------------\n",
      "--------------------------------------------------\n",
      "Checking if provided sentence matches the grammar:\n",
      "a b b\n",
      "(q_0 a (q_0 ) b b)\n",
      "(q_0 a b b)\n",
      "--------------------------------------------------\n",
      "--------------------------------------------------\n",
      "Checking if provided sentence matches the grammar:\n",
      "a a b b b b\n",
      "(q_0 a (q_0 a (q_0 ) b b) b b)\n",
      "(q_0 a (q_0 a b b) b b)\n",
      "--------------------------------------------------\n",
      "--------------------------------------------------\n",
      "Checking if provided sentence matches the grammar:\n",
      "a b b b\n",
      "['a', 'b', 'b', 'b'] Does not match the provided grammar.\n",
      "--------------------------------------------------\n"
     ]
    },
    {
     "data": {
      "text/plain": [
       "False"
      ]
     },
     "execution_count": 61,
     "metadata": {},
     "output_type": "execute_result"
    }
   ],
   "source": [
    "# Define formal_1\n",
    "formal_1 = CFG.fromstring(\"\"\"\n",
    "  q_0 -> 'a' q_0 'b' 'b'\n",
    "  q_0 -> 'a' 'b' 'b'\n",
    "  q_0 -> \n",
    "\"\"\")\n",
    "# Use the correct parser for fsa_2\n",
    "formal_1_parser = RecursiveDescentParser(formal_1)\n",
    "# The following inputs should produce the corresponding results\n",
    "check_sentence(formal_1_parser, '') # True\n",
    "check_sentence(formal_1_parser, 'a b b') # True\n",
    "check_sentence(formal_1_parser, 'a a b b b b') # True\n",
    "check_sentence(formal_1_parser, 'a b b b') # False"
   ]
  },
  {
   "cell_type": "markdown",
   "metadata": {},
   "source": [
    "### Question 3.2\n",
    "\n",
    "Does your grammar correspond to a right-linear grammar? Why?\n",
    "\n",
    "#### Answers:"
   ]
  },
  {
   "cell_type": "markdown",
   "metadata": {
    "collapsed": true
   },
   "source": [
    "No because the first rule does not match the rule skeleton `A -> x B` or `A -> x`, which is required for a right-linear grammar."
   ]
  },
  {
   "cell_type": "code",
   "execution_count": null,
   "metadata": {},
   "outputs": [],
   "source": []
  }
 ],
 "metadata": {
  "kernelspec": {
   "display_name": "Python 3",
   "language": "python",
   "name": "python3"
  },
  "language_info": {
   "codemirror_mode": {
    "name": "ipython",
    "version": 3
   },
   "file_extension": ".py",
   "mimetype": "text/x-python",
   "name": "python",
   "nbconvert_exporter": "python",
   "pygments_lexer": "ipython3",
   "version": "3.6.3"
  }
 },
 "nbformat": 4,
 "nbformat_minor": 2
}
